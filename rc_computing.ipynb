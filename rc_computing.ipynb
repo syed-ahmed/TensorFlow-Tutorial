{
 "cells": [
  {
   "cell_type": "markdown",
   "metadata": {
    "deletable": true,
    "editable": true
   },
   "source": [
    "# Step 1 - Get Access to RC Computing Cluster"
   ]
  },
  {
   "cell_type": "markdown",
   "metadata": {
    "deletable": true,
    "editable": true
   },
   "source": [
    "Go to http://rc.rit.edu/. Click on Apply on the top right corner and then apply again in the following page.\n",
    "![RC Computing Page](images/rc.png \"RC Computing Page\")"
   ]
  },
  {
   "cell_type": "markdown",
   "metadata": {
    "deletable": true,
    "editable": true
   },
   "source": [
    "# Step 2 - Copy your code to the cluster"
   ]
  },
  {
   "cell_type": "markdown",
   "metadata": {
    "deletable": true,
    "editable": true
   },
   "source": [
    "![Copy to Linux](images/copy1.png \"Copy to Linux\")"
   ]
  },
  {
   "cell_type": "markdown",
   "metadata": {
    "deletable": true,
    "editable": true
   },
   "source": [
    "![Copy to Mac](images/copy2.png \"Copy to Mac\")"
   ]
  },
  {
   "cell_type": "markdown",
   "metadata": {
    "deletable": true,
    "editable": true
   },
   "source": [
    "![Copy from Windows](images/copy3.png \"Copy from Windows\")"
   ]
  },
  {
   "cell_type": "markdown",
   "metadata": {
    "deletable": true,
    "editable": true
   },
   "source": [
    "# Step 3 - SSH into the cluster"
   ]
  },
  {
   "cell_type": "markdown",
   "metadata": {
    "deletable": true,
    "editable": true
   },
   "source": [
    "If you are using windows, follow the directions in this link: https://wiki.rit.edu/pages/viewpage.action?pageId=126190121. If you are using unix system, open a terminal and execute the following command, replacing <username> with your RIT username and entering your password when prompted for it."
   ]
  },
  {
   "cell_type": "markdown",
   "metadata": {
    "deletable": true,
    "editable": true
   },
   "source": [
    "```ssh <username>@ion.main.ad.rit.edu```"
   ]
  },
  {
   "cell_type": "markdown",
   "metadata": {
    "deletable": true,
    "editable": true
   },
   "source": [
    "# Step 4 - Create a script"
   ]
  },
  {
   "cell_type": "markdown",
   "metadata": {
    "deletable": true,
    "editable": true
   },
   "source": [
    "RIT's RC cluster is run through slurm which is a software orchestration tool and works by getting jobs from its user. Think of slurm as like an admin to whom you are submitting code that runs. ***NOTE*** that the cluster is not meant for debugging. You should only submit jobs to the cluster when you are sure that your code runs locally. The cluster is meant to run your code over multiple cpu and gpu cores, which you probably don't have available in your local computer. And that is the reason, the cluster uses SLURM."
   ]
  },
  {
   "cell_type": "markdown",
   "metadata": {
    "deletable": true,
    "editable": true
   },
   "source": [
    "Open a text editor and type the following script"
   ]
  },
  {
   "cell_type": "code",
   "execution_count": null,
   "metadata": {
    "collapsed": true,
    "deletable": true,
    "editable": true
   },
   "outputs": [],
   "source": [
    "#!/bin/bash -l\n",
    "# NOTE the -l flag!\n",
    "#\n",
    "\n",
    "# This is an example job file for a Serial Multi-Process job.\n",
    "# Note that all of the following statements below that begin\n",
    "# with #SBATCH are actually commands to the SLURM scheduler.\n",
    "# Please copy this file to your home directory and modify it\n",
    "# to suit your needs.\n",
    "# \n",
    "# If you need any help, please email rc-help@rit.edu\n",
    "#\n",
    "\n",
    "# Name of the job - You'll probably want to customize this.\n",
    "#SBATCH -J tensorflow_example\n",
    "\n",
    "# Standard out and Standard Error output files\n",
    "#SBATCH -o test_run_1.output\n",
    "#SBATCH -e test_run_1.output\n",
    "\n",
    "#To send emails, set the adcdress below\n",
    "#SBATCH --mail-user sxa1056@rit.edu\n",
    "\n",
    "# notify on state change: BEGIN, END, FAIL or ALL\n",
    "#SBATCH --mail-type=ALL\n",
    "\n",
    "# Request 5 hours run time MAX, anything over will be KILLED\n",
    "#SBATCH -t 5:0:0\n",
    "\n",
    "# Put the job in the \"work\" partition and request one core\n",
    "#  \"work\" is the default partition so it can be omitted without issue.\n",
    "#  Note that no number of nodes is specified here.  We do that in the\n",
    "#  other script.\n",
    "#SBATCH -p work\n",
    "\n",
    "# Job memory requirements in MB\n",
    "#SBATCH --mem=6000\n",
    "\n",
    "# Explicitly state you are a free user\n",
    "#SBATCH --qos=free\n",
    "\n",
    "#\n",
    "# Your job script goes below this line.  \n",
    "#\n",
    "# Since we have 4 cpus on each node, we want to tell\n",
    "#  our program to use '4*the-number-of-nodes' cpus.\n",
    "cores=`echo $SLURM_NNODES*4 | bc`\n",
    "\n",
    "echo \"Here I need to put code to tell slurm job $SLURM_JOB_ID\"\n",
    "echo \"  which has been allocated $SLURM_NNODES 'nodes', and\"\n",
    "echo \"  which means it can make use $cores cores to actually\"\n",
    "echo \"  execute my program specified to use only $cores cores.\"\n",
    "echo \"\"\n",
    "\n",
    "# Sleep for 10 seconds, then keep outputting stuff with 'echo'\n",
    "# load modules required for running your program\n",
    "module load cuda/7.5\n",
    "module load cudnn/6.5\n",
    "module load module_future\n",
    "module load python/2.7.12\n",
    "module load singularity\n",
    "\n",
    "cd /home/sxa1056/my_code\n",
    "singularity run /opt/singularity/images/tensorflow_0.0.1_82f00df1c07bc4a3ad242da2a272c116a4cbede3.img python mnist.py\n",
    "\n",
    "echo \"\""
   ]
  },
  {
   "cell_type": "markdown",
   "metadata": {
    "deletable": true,
    "editable": true
   },
   "source": [
    "# Step 4 - Submit the job"
   ]
  },
  {
   "cell_type": "markdown",
   "metadata": {
    "deletable": true,
    "editable": true
   },
   "source": [
    "Run the following command in the cluster, where example.sh is the script you wrote above.\n",
    "\n",
    "```sbatch --qos=free --gres=gpu example.sh```"
   ]
  },
  {
   "cell_type": "markdown",
   "metadata": {
    "deletable": true,
    "editable": true
   },
   "source": [
    "# References"
   ]
  },
  {
   "cell_type": "markdown",
   "metadata": {
    "deletable": true,
    "editable": true
   },
   "source": [
    "1. https://wiki.rit.edu/display/rc/Getting+Started\n",
    "2. https://wiki.rit.edu/display/kgcoeuserdocs/Singularity"
   ]
  }
 ],
 "metadata": {
  "kernelspec": {
   "display_name": "Python 2",
   "language": "python",
   "name": "python2"
  },
  "language_info": {
   "codemirror_mode": {
    "name": "ipython",
    "version": 2
   },
   "file_extension": ".py",
   "mimetype": "text/x-python",
   "name": "python",
   "nbconvert_exporter": "python",
   "pygments_lexer": "ipython2",
   "version": "2.7.13"
  }
 },
 "nbformat": 4,
 "nbformat_minor": 2
}
