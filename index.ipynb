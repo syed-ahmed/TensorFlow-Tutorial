{
 "cells": [
  {
   "cell_type": "markdown",
   "metadata": {
    "deletable": true,
    "editable": true
   },
   "source": [
    "<a href=\"https://github.com/syed-ahmed/tensorflow-tutorial\"><img style=\"position: absolute; top: 0; right: 0; border: 0;\" src=\"https://camo.githubusercontent.com/a6677b08c955af8400f44c6298f40e7d19cc5b2d/68747470733a2f2f73332e616d617a6f6e6177732e636f6d2f6769746875622f726962626f6e732f666f726b6d655f72696768745f677261795f3664366436642e706e67\" alt=\"Fork me on GitHub\" data-canonical-src=\"https://s3.amazonaws.com/github/ribbons/forkme_right_gray_6d6d6d.png\"></a>"
   ]
  },
  {
   "cell_type": "markdown",
   "metadata": {
    "deletable": true,
    "editable": true
   },
   "source": [
    "# TensorFlow Tutorial - WNYISPW 2017"
   ]
  },
  {
   "cell_type": "markdown",
   "metadata": {
    "deletable": true,
    "editable": true
   },
   "source": [
    "Welcome, [WNYISPW 2017](http://ewh.ieee.org/r1/rochester/sp/WNYISPW2017.html) participants! Contributions are welcome. See [GitHub](https://github.com/syed-ahmed/tensorflow-tutorial) for more info."
   ]
  },
  {
   "cell_type": "markdown",
   "metadata": {
    "deletable": true,
    "editable": true
   },
   "source": [
    "TensorFlow is a powerful library for doing large-scale numerical computation. One of the tasks at which it excels is implementing and training deep neural networks. In this session we will learn about:\n",
    "1. TensorFlow's Dataflow Programming Paradigm: A TensorFlow model creates a directed graph of various computations. In this part we will talk about the pros and cons of this paradigm, which will help you understand the use cases for TensorFlow.\n",
    "2. TensorFlow 101: This section will introduce different APIs available in TensorFlow to implement Convolutional Neural Networks, Sequence to Sequence models and Digital Signal Processing algorithms.\n",
    "3. Software Development Workflow: This part will talk about how to structure a deep learning project and use Docker.\n",
    "4. Profiling your code: In this section you will learn how to profile your code and optimize it to make it run faster.\n",
    "5. Multi-GPU execution: This part will go over distributed training in TensorFlow.\n",
    "6. Inference Pipeline: Lastly, we will show how to deploy your models in mobile devices like Android and the NVIDIA Jetson TX2."
   ]
  },
  {
   "cell_type": "markdown",
   "metadata": {
    "collapsed": true,
    "deletable": true,
    "editable": true
   },
   "source": [
    "## Tutorials"
   ]
  },
  {
   "cell_type": "markdown",
   "metadata": {
    "collapsed": true,
    "deletable": true,
    "editable": true
   },
   "source": [
    "1.   [Installing TensorFlow](https://www.tensorflow.org/install/)\n",
    "1.   [Python Basics](http://cs231n.github.io/python-numpy-tutorial/)\n",
    "1.   [Jupyter Basics](http://cs231n.github.io/ipython-tutorial/)\n",
    "1.   [Running TensorFlow on RIT RC Cluster](rc_computing.html)\n",
    "1.   [TensorFlow 101](tensorflow_101.html)\n",
    "1.   [Software Development Workflow](https://syed-ahmed.gitbooks.io/development-workflows/content/first-question.html)"
   ]
  },
  {
   "cell_type": "code",
   "execution_count": null,
   "metadata": {
    "collapsed": true
   },
   "outputs": [],
   "source": []
  }
 ],
 "metadata": {
  "kernelspec": {
   "display_name": "Python 2",
   "language": "python",
   "name": "python2"
  },
  "language_info": {
   "codemirror_mode": {
    "name": "ipython",
    "version": 2
   },
   "file_extension": ".py",
   "mimetype": "text/x-python",
   "name": "python",
   "nbconvert_exporter": "python",
   "pygments_lexer": "ipython2",
   "version": "2.7.13"
  }
 },
 "nbformat": 4,
 "nbformat_minor": 2
}
